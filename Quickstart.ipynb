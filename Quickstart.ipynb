{
 "cells": [
  {
   "cell_type": "markdown",
   "metadata": {},
   "source": [
    "# APDTFlow Quickstart Guide\n",
    "\n",
    "Welcome to APDTFlow! This notebook will get you forecasting time series data in minutes.\n",
    "\n",
    "## What is APDTFlow?\n",
    "\n",
    "APDTFlow is the **only Python package** that combines:\n",
    "- **Neural ODEs** for continuous-time modeling\n",
    "- **Conformal Prediction** for rigorous uncertainty\n",
    "- **Exogenous Variables** with 3 fusion strategies\n",
    "- **Simple API** - just `fit()` and `predict()`\n",
    "\n",
    "Let's dive in!"
   ]
  },
  {
   "cell_type": "markdown",
   "metadata": {},
   "source": [
    "## Step 1: Import and Load Data\n",
    "\n",
    "First, let's import APDTFlow and load a sample time series dataset."
   ]
  },
  {
   "cell_type": "code",
   "execution_count": null,
   "metadata": {},
   "outputs": [],
   "source": [
    "import pandas as pd\n",
    "from apdtflow import APDTFlowForecaster\n",
    "\n",
    "# Load time series data (U.S. Electric Production)\n",
    "df = pd.read_csv('dataset_examples/Electric_Production.csv', parse_dates=['DATE'])\n",
    "\n",
    "print(\"Dataset shape:\", df.shape)\n",
    "print(\"\\nFirst few rows:\")\n",
    "df.head()"
   ]
  },
  {
   "cell_type": "markdown",
   "metadata": {},
   "source": [
    "## Step 2: Create and Train the Model\n",
    "\n",
    "Creating a forecaster is simple! Just specify:\n",
    "- `forecast_horizon`: How many steps ahead to predict\n",
    "- `history_length`: How many past observations to use\n",
    "- `num_epochs`: Training iterations"
   ]
  },
  {
   "cell_type": "code",
   "execution_count": null,
   "metadata": {},
   "outputs": [],
   "source": [
    "# Create the forecaster\n",
    "model = APDTFlowForecaster(\n",
    "    forecast_horizon=14,      # Predict 14 steps ahead\n",
    "    history_length=30,        # Use 30 historical points\n",
    "    num_epochs=30,            # Training epochs\n",
    "    verbose=True\n",
    ")\n",
    "\n",
    "# Train the model (automatic preprocessing and normalization!)\n",
    "model.fit(df, target_col='IPG2211A2N', date_col='DATE')"
   ]
  },
  {
   "cell_type": "markdown",
   "metadata": {},
   "source": [
    "## Step 3: Make Predictions\n",
    "\n",
    "Now let's forecast future values!"
   ]
  },
  {
   "cell_type": "code",
   "execution_count": null,
   "metadata": {},
   "outputs": [],
   "source": [
    "# Simple prediction\n",
    "predictions = model.predict()\n",
    "print(f\"Forecasted next {len(predictions)} values:\")\n",
    "print(predictions)"
   ]
  },
  {
   "cell_type": "markdown",
   "metadata": {},
   "source": [
    "## Step 4: Get Uncertainty Estimates\n",
    "\n",
    "APDTFlow provides uncertainty quantification out of the box!"
   ]
  },
  {
   "cell_type": "code",
   "execution_count": null,
   "metadata": {},
   "outputs": [],
   "source": [
    "# Get predictions with uncertainty\n",
    "predictions, uncertainty = model.predict(return_uncertainty=True)\n",
    "\n",
    "print(\"Predictions:\", predictions[:5])  # First 5\n",
    "print(\"Uncertainty (std):\", uncertainty[:5])"
   ]
  },
  {
   "cell_type": "markdown",
   "metadata": {},
   "source": [
    "## Step 5: Visualize the Forecast\n",
    "\n",
    "Built-in visualization makes it easy to see your results!"
   ]
  },
  {
   "cell_type": "code",
   "execution_count": null,
   "metadata": {},
   "outputs": [],
   "source": [
    "# Plot forecast with uncertainty bands\n",
    "model.plot_forecast(\n",
    "    with_history=100,          # Show last 100 historical points\n",
    "    show_uncertainty=True,     # Show confidence bands\n",
    "    save_path='forecast_plot.png'\n",
    ")\n",
    "\n",
    "print(\"✅ Forecast saved to 'forecast_plot.png'\")"
   ]
  },
  {
   "cell_type": "markdown",
   "metadata": {},
   "source": [
    "## Bonus: Try Different Model Architectures\n",
    "\n",
    "APDTFlow supports multiple model types:\n",
    "- `apdtflow` (default): Neural ODE-based forecaster\n",
    "- `transformer`: Attention-based model\n",
    "- `tcn`: Temporal Convolutional Network\n",
    "- `ensemble`: Combination of all models\n",
    "\n",
    "Switch between them with one parameter!"
   ]
  },
  {
   "cell_type": "code",
   "execution_count": null,
   "metadata": {},
   "outputs": [],
   "source": [
    "# Try Transformer model\n",
    "transformer_model = APDTFlowForecaster(\n",
    "    model_type='transformer',\n",
    "    forecast_horizon=14,\n",
    "    history_length=30,\n",
    "    num_epochs=20,\n",
    "    verbose=False\n",
    ")\n",
    "\n",
    "transformer_model.fit(df, target_col='IPG2211A2N', date_col='DATE')\n",
    "transformer_preds = transformer_model.predict()\n",
    "\n",
    "print(\"Transformer forecast (first 5):\", transformer_preds[:5])"
   ]
  },
  {
   "cell_type": "code",
   "execution_count": null,
   "metadata": {},
   "outputs": [],
   "source": [
    "# Try TCN model\n",
    "tcn_model = APDTFlowForecaster(\n",
    "    model_type='tcn',\n",
    "    forecast_horizon=14,\n",
    "    history_length=30,\n",
    "    num_epochs=20,\n",
    "    verbose=False\n",
    ")\n",
    "\n",
    "tcn_model.fit(df, target_col='IPG2211A2N', date_col='DATE')\n",
    "tcn_preds = tcn_model.predict()\n",
    "\n",
    "print(\"TCN forecast (first 5):\", tcn_preds[:5])"
   ]
  },
  {
   "cell_type": "code",
   "execution_count": null,
   "metadata": {},
   "outputs": [],
   "source": [
    "# Try Ensemble model (combines all models)\n",
    "ensemble_model = APDTFlowForecaster(\n",
    "    model_type='ensemble',\n",
    "    forecast_horizon=14,\n",
    "    history_length=30,\n",
    "    num_epochs=20,\n",
    "    verbose=False\n",
    ")\n",
    "\n",
    "ensemble_model.fit(df, target_col='IPG2211A2N', date_col='DATE')\n",
    "ensemble_preds = ensemble_model.predict()\n",
    "\n",
    "print(\"Ensemble forecast (first 5):\", ensemble_preds[:5])"
   ]
  },
  {
   "cell_type": "markdown",
   "metadata": {},
   "source": [
    "## Next Steps\n",
    "\n",
    "Congratulations! You've just:\n",
    "- ✅ Loaded time series data\n",
    "- ✅ Trained a Neural ODE forecaster\n",
    "- ✅ Made predictions with uncertainty\n",
    "- ✅ Visualized the results\n",
    "- ✅ Tried different model architectures\n",
    "\n",
    "### Learn More\n",
    "\n",
    "Check out these advanced features:\n",
    "\n",
    "1. **Exogenous Variables** - Boost accuracy by 30-50% with external features:\n",
    "   ```python\n",
    "   model = APDTFlowForecaster(exog_fusion_type='gated')\n",
    "   model.fit(df, target_col='sales', exog_cols=['temperature', 'is_holiday'])\n",
    "   ```\n",
    "\n",
    "2. **Conformal Prediction** - Get rigorous uncertainty with coverage guarantees:\n",
    "   ```python\n",
    "   model = APDTFlowForecaster(use_conformal=True, conformal_method='adaptive')\n",
    "   lower, pred, upper = model.predict(alpha=0.05, return_intervals='conformal')\n",
    "   ```\n",
    "\n",
    "3. **More Examples**:\n",
    "   - `examples/exogenous_variables_demo.py`\n",
    "   - `examples/conformal_prediction_demo.py`\n",
    "   - `experiments/notebooks/` - Full tutorial notebooks\n",
    "\n",
    "### Documentation\n",
    "\n",
    "- [GitHub Repository](https://github.com/yotambraun/APDTFlow)\n",
    "- [Model Documentation](https://github.com/yotambraun/APDTFlow/blob/main/docs/models.md)\n",
    "- [Experiment Results](https://github.com/yotambraun/APDTFlow/blob/main/docs/experiment_results.md)\n",
    "\n",
    "Happy forecasting! 🚀"
   ]
  }
 ],
 "metadata": {
  "kernelspec": {
   "display_name": "Python 3",
   "language": "python",
   "name": "python3"
  },
  "language_info": {
   "codemirror_mode": {
    "name": "ipython",
    "version": 3
   },
   "file_extension": ".py",
   "mimetype": "text/x-python",
   "name": "python",
   "nbconvert_exporter": "python",
   "pygments_lexer": "ipython3",
   "version": "3.10.0"
  }
 },
 "nbformat": 4,
 "nbformat_minor": 4
}
