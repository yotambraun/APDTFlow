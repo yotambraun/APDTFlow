{
 "cells": [
  {
   "cell_type": "code",
   "execution_count": null,
   "metadata": {},
   "outputs": [
    {
     "name": "stdout",
     "output_type": "stream",
     "text": [
      "New working directory: C:\\Users\\yotam\\code_projects\\APDTFlow\n"
     ]
    }
   ],
   "source": [
    "import os\n",
    "os.chdir(\"C:/Users/yotam/code_projects/APDTFlow\")\n",
    "print(\"New working directory:\", os.getcwd())"
   ]
  },
  {
   "cell_type": "code",
   "execution_count": null,
   "metadata": {},
   "outputs": [
    {
     "name": "stdout",
     "output_type": "stream",
     "text": [
      "Project root added to sys.path: C:\\Users\\yotam\n"
     ]
    }
   ],
   "source": [
    "import sys\n",
    "import os\n",
    "\n",
    "# If the notebook is in \"experiments/notebooks/\", then the project root is two levels up.\n",
    "project_root = os.path.abspath(os.path.join(os.getcwd(), \"..\", \"..\"))\n",
    "if project_root not in sys.path:\n",
    "    sys.path.append(project_root)\n",
    "\n",
    "print(\"Project root added to sys.path:\", project_root)\n"
   ]
  },
  {
   "cell_type": "code",
   "execution_count": null,
   "metadata": {},
   "outputs": [
    {
     "name": "stdout",
     "output_type": "stream",
     "text": [
      "CUDA available: False\n"
     ]
    }
   ],
   "source": [
    "import torch\n",
    "print(\"CUDA available:\", torch.cuda.is_available())\n",
    "device = torch.device(\"cuda:0\" if torch.cuda.is_available() else \"cpu\")\n",
    "os.environ[\"CUDA_VISIBLE_DEVICES\"] = \"0\""
   ]
  },
  {
   "cell_type": "code",
   "execution_count": null,
   "metadata": {},
   "outputs": [],
   "source": [
    "from torch.utils.data import DataLoader\n",
    "from apdtflow.data import TimeSeriesWindowDataset\n",
    "\n",
    "# Define dataset parameters\n",
    "csv_file = \"C:/Users/yotam/code_projects/APDTFlow/dataset_examples/Electric_Production.csv\"\n",
    "date_col = \"DATE\"\n",
    "value_col = \"IPG2211A2N\"\n",
    "T_in = 12    # Number of past time steps (input sequence length)\n",
    "T_out = 3    # Forecast horizon (number of future time steps)\n",
    "\n",
    "# Create dataset and DataLoader\n",
    "dataset = TimeSeriesWindowDataset(csv_file=csv_file,\n",
    "                                  date_col=date_col,\n",
    "                                  value_col=value_col,\n",
    "                                  T_in=T_in,\n",
    "                                  T_out=T_out)\n",
    "train_loader = DataLoader(dataset, batch_size=16, shuffle=True)\n",
    "\n",
    "print(\"Dataset loaded. Total samples:\", len(dataset))"
   ]
  },
  {
   "cell_type": "markdown",
   "metadata": {},
   "source": [
    "## Model Initialization and Training"
   ]
  },
  {
   "cell_type": "code",
   "execution_count": null,
   "metadata": {},
   "outputs": [],
   "source": [
    "from apdtflow.models.apdtflow import APDTFlow\n",
    "from apdtflow.models import transformer_forecaster, tcn_forecaster, ensemble_forecaster\n",
    "\n",
    "# Initialize models with common parameters\n",
    "num_scales = 3\n",
    "input_channels = 1\n",
    "filter_size = 5\n",
    "hidden_dim = 16\n",
    "output_dim = 1\n",
    "forecast_horizon = T_out  # Should match T_out\n",
    "\n",
    "# APDTFlow model\n",
    "apdtflow_model = APDTFlow(num_scales=num_scales,\n",
    "                          input_channels=input_channels,\n",
    "                          filter_size=filter_size,\n",
    "                          hidden_dim=hidden_dim,\n",
    "                          output_dim=output_dim,\n",
    "                          forecast_horizon=forecast_horizon)\n",
    "apdtflow_model.to(device)"
   ]
  },
  {
   "cell_type": "markdown",
   "metadata": {},
   "source": [
    "### alternative forecaster models"
   ]
  },
  {
   "cell_type": "code",
   "execution_count": null,
   "metadata": {},
   "outputs": [],
   "source": [
    "try:\n",
    "    from apdtflow.models.transformer_forecaster import TransformerForecaster\n",
    "    from apdtflow.models.tcn_forecaster import TCNForecaster\n",
    "    from apdtflow.models.ensemble_forecaster import EnsembleForecaster\n",
    "except ImportError:\n",
    "    print(\"One or more alternative forecaster modules are not available.\")\n",
    "\n",
    "# Initialize alternative models (if available)\n",
    "transformer_model = TransformerForecaster(num_scales=num_scales,\n",
    "                                          input_channels=input_channels,\n",
    "                                          filter_size=filter_size,\n",
    "                                          hidden_dim=hidden_dim,\n",
    "                                          output_dim=output_dim,\n",
    "                                          forecast_horizon=forecast_horizon)\n",
    "transformer_model.to(device)\n",
    "\n",
    "tcn_model = TCNForecaster(num_scales=num_scales,\n",
    "                          input_channels=input_channels,\n",
    "                          filter_size=filter_size,\n",
    "                          hidden_dim=hidden_dim,\n",
    "                          output_dim=output_dim,\n",
    "                          forecast_horizon=forecast_horizon)\n",
    "tcn_model.to(device)\n",
    "\n",
    "ensemble_model = EnsembleForecaster(num_scales=num_scales,\n",
    "                                    input_channels=input_channels,\n",
    "                                    filter_size=filter_size,\n",
    "                                    hidden_dim=hidden_dim,\n",
    "                                    output_dim=output_dim,\n",
    "                                    forecast_horizon=forecast_horizon)\n",
    "ensemble_model.to(device)"
   ]
  },
  {
   "cell_type": "markdown",
   "metadata": {},
   "source": [
    "## Training Function"
   ]
  },
  {
   "cell_type": "code",
   "execution_count": null,
   "metadata": {},
   "outputs": [],
   "source": [
    "def train_forecaster(model, train_loader, num_epochs, learning_rate, device):\n",
    "    model.to(device)\n",
    "    optimizer = torch.optim.Adam(model.parameters(), lr=learning_rate)\n",
    "    for epoch in range(num_epochs):\n",
    "        model.train()\n",
    "        epoch_loss = 0.0\n",
    "        for x_batch, y_batch in train_loader:\n",
    "            x_batch = x_batch.to(device)\n",
    "            y_batch = y_batch.to(device)\n",
    "            if x_batch.dim() == 4 and x_batch.size(1) == 1:\n",
    "                x_batch = x_batch.squeeze(1)\n",
    "            batch_size, _, T_in_current = x_batch.size()\n",
    "            t_span = torch.linspace(0, 1, steps=T_in_current, device=device)\n",
    "            \n",
    "            optimizer.zero_grad()\n",
    "            preds, pred_logvars = model(x_batch, t_span)\n",
    "            mse = (preds - y_batch.transpose(1, 2)) ** 2\n",
    "            loss = torch.mean(0.5 * (mse / (pred_logvars.exp() + 1e-6)) + 0.5 * pred_logvars)\n",
    "            loss.backward()\n",
    "            optimizer.step()\n",
    "            epoch_loss += loss.item() * batch_size\n",
    "        avg_loss = epoch_loss / len(train_loader.dataset)\n",
    "        print(f\"Epoch {epoch+1}/{num_epochs}, Loss: {avg_loss:.4f}\")\n",
    "    return model\n"
   ]
  },
  {
   "cell_type": "markdown",
   "metadata": {},
   "source": [
    "## Train Each Model"
   ]
  },
  {
   "cell_type": "code",
   "execution_count": null,
   "metadata": {},
   "outputs": [],
   "source": [
    "num_epochs = 5 \n",
    "learning_rate = 0.001\n",
    "\n",
    "print(\"Training APDTFlow model...\")\n",
    "trained_apdtflow = train_forecaster(apdtflow_model, train_loader, num_epochs, learning_rate, device)\n",
    "\n",
    "print(\"\\nTraining TransformerForecaster model...\")\n",
    "trained_transformer = train_forecaster(transformer_model, train_loader, num_epochs, learning_rate, device)\n",
    "\n",
    "print(\"\\nTraining TCNForecaster model...\")\n",
    "trained_tcn = train_forecaster(tcn_model, train_loader, num_epochs, learning_rate, device)\n",
    "\n",
    "print(\"\\nTraining EnsembleForecaster model...\")\n",
    "trained_ensemble = train_forecaster(ensemble_model, train_loader, num_epochs, learning_rate, device)"
   ]
  },
  {
   "cell_type": "markdown",
   "metadata": {},
   "source": [
    "## Evaluation"
   ]
  },
  {
   "cell_type": "code",
   "execution_count": null,
   "metadata": {},
   "outputs": [],
   "source": [
    "print(\"\\nEvaluating APDTFlow model...\")\n",
    "mse, mae = trained_apdtflow.evaluate(train_loader, device)\n",
    "print(f\"APDTFlow Evaluation -> MSE: {mse:.4f}, MAE: {mae:.4f}\")\n"
   ]
  },
  {
   "cell_type": "markdown",
   "metadata": {},
   "source": [
    "## Similarly, evaluate the alternative models"
   ]
  },
  {
   "cell_type": "code",
   "execution_count": null,
   "metadata": {},
   "outputs": [],
   "source": [
    "mse_trans, mae_trans = trained_transformer.evaluate(train_loader, device)\n",
    "print(f\"TransformerForecaster Evaluation -> MSE: {mse_trans:.4f}, MAE: {mae_trans:.4f}\")\n",
    "\n",
    "mse_tcn, mae_tcn = trained_tcn.evaluate(train_loader, device)\n",
    "print(f\"TCNForecaster Evaluation -> MSE: {mse_tcn:.4f}, MAE: {mae_tcn:.4f}\")\n",
    "\n",
    "mse_ensemble, mae_ensemble = trained_ensemble.evaluate(train_loader, device)\n",
    "print(f\"EnsembleForecaster Evaluation -> MSE: {mse_ensemble:.4f}, MAE: {mae_ensemble:.4f}\")"
   ]
  }
 ],
 "metadata": {
  "kernelspec": {
   "display_name": "Python 3",
   "language": "python",
   "name": "python3"
  },
  "language_info": {
   "name": "python",
   "version": "3.10.0"
  }
 },
 "nbformat": 4,
 "nbformat_minor": 2
}
