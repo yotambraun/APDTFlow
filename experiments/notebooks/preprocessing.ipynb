{
 "cells": [
  {
   "cell_type": "code",
   "execution_count": null,
   "metadata": {},
   "outputs": [],
   "source": [
    "from apdtflow.preprocessing import impute_missing_values, detrend_series, TimeSeriesScaler\n",
    "import pandas as pd\n",
    "\n",
    "df = pd.read_csv(r\"C:\\Users\\yotam\\code_projects\\APDTFlow\\dataset_examples\\monthly-beer-production-in-austr.csv\")\n",
    "df[\"Daily minimum temperatures\"] = impute_missing_values(df[\"Daily minimum temperatures\"], method=\"ffill\")\n",
    "df[\"Detrended\"] = detrend_series(df[\"Daily minimum temperatures\"], method=\"difference\")\n",
    "scaler = TimeSeriesScaler(scaler_type=\"standard\")\n",
    "df[\"Scaled\"] = scaler.fit_transform(df[[\"Daily minimum temperatures\"]])\n"
   ]
  }
 ],
 "metadata": {
  "kernelspec": {
   "display_name": "Python 3",
   "language": "python",
   "name": "python3"
  },
  "language_info": {
   "name": "python",
   "version": "3.10.0"
  }
 },
 "nbformat": 4,
 "nbformat_minor": 2
}
