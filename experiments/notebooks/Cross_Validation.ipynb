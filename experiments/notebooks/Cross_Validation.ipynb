{
 "cells": [
  {
   "cell_type": "code",
   "execution_count": null,
   "metadata": {},
   "outputs": [],
   "source": [
    "import os\n",
    "import sys\n",
    "import numpy as np\n",
    "import pandas as pd\n",
    "import torch\n",
    "from torch.utils.data import DataLoader, Subset\n",
    "import matplotlib.pyplot as plt\n",
    "\n",
    "os.chdir(\"C:/Users/yotam/code_projects/APDTFlow\")\n",
    "project_root = os.path.abspath(os.path.join(os.getcwd(), \"..\", \"..\"))\n",
    "if project_root not in sys.path:\n",
    "    sys.path.append(project_root)\n",
    "print(\"Project root added to sys.path:\", project_root)\n",
    "print(\"CUDA available:\", torch.cuda.is_available())\n",
    "device = torch.device(\"cuda:0\" if torch.cuda.is_available() else \"cpu\")\n",
    "\n",
    "from apdtflow.data import TimeSeriesWindowDataset\n"
   ]
  },
  {
   "cell_type": "code",
   "execution_count": null,
   "metadata": {},
   "outputs": [],
   "source": [
    "csv_file = \"C:/Users/yotam/code_projects/APDTFlow/dataset_examples/daily-minimum-temperatures-in-me_clean.csv\"\n",
    "date_col = \"Date\"\n",
    "value_col = \"Daily minimum temperatures\"\n",
    "T_in = 30  \n",
    "T_out = 7  \n",
    "\n",
    "dataset = TimeSeriesWindowDataset(\n",
    "    csv_file=csv_file,\n",
    "    date_col=date_col,\n",
    "    value_col=value_col,\n",
    "    T_in=T_in,\n",
    "    T_out=T_out,\n",
    "    transform=None\n",
    ")  \n",
    "\n",
    "print(\"Dataset loaded. Total samples:\", len(dataset))"
   ]
  },
  {
   "cell_type": "markdown",
   "metadata": {},
   "source": [
    "## Generate Cross‑Validation Splits Using TimeSeriesCVFactory"
   ]
  },
  {
   "cell_type": "markdown",
   "metadata": {},
   "source": [
    "#### rolling"
   ]
  },
  {
   "cell_type": "code",
   "execution_count": null,
   "metadata": {},
   "outputs": [],
   "source": [
    "from apdtflow.cv_factory import TimeSeriesCVFactory\n",
    "\n",
    "cv_factory = TimeSeriesCVFactory(\n",
    "    dataset=dataset,\n",
    "    method=\"rolling\",   \n",
    "    train_size=400,\n",
    "    val_size=50,\n",
    "    step_size=50\n",
    ")\n",
    "\n",
    "splits = cv_factory.get_splits(max_splits=3)\n",
    "print(\"Generated CV splits (train indices, val indices):\")\n",
    "for i, (train_idx, val_idx) in enumerate(splits):\n",
    "    print(f\"Split {i+1}: Train size = {len(train_idx)}, Validation size = {len(val_idx)}\")\n"
   ]
  },
  {
   "cell_type": "markdown",
   "metadata": {},
   "source": [
    "#### expanding"
   ]
  },
  {
   "cell_type": "code",
   "execution_count": null,
   "metadata": {},
   "outputs": [],
   "source": [
    "cv_factory = TimeSeriesCVFactory(\n",
    "    dataset=dataset,\n",
    "    method=\"expanding\", \n",
    "    train_size=400,\n",
    "    val_size=50,\n",
    "    step_size=50\n",
    ")\n"
   ]
  },
  {
   "cell_type": "markdown",
   "metadata": {},
   "source": [
    "### blocked"
   ]
  },
  {
   "cell_type": "code",
   "execution_count": null,
   "metadata": {},
   "outputs": [],
   "source": [
    "cv_factory = TimeSeriesCVFactory(\n",
    "    dataset=dataset,\n",
    "    method=\"blocked\",\n",
    "    train_size=400,\n",
    "    val_size=50,\n",
    "    step_size=50\n",
    ")\n"
   ]
  }
 ],
 "metadata": {
  "kernelspec": {
   "display_name": "Python 3",
   "language": "python",
   "name": "python3"
  },
  "language_info": {
   "name": "python",
   "version": "3.10.0"
  }
 },
 "nbformat": 4,
 "nbformat_minor": 2
}
