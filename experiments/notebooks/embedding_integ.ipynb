{
 "cells": [
  {
   "cell_type": "markdown",
   "metadata": {},
   "source": [
    "## Setup and Imports"
   ]
  },
  {
   "cell_type": "code",
   "execution_count": 1,
   "metadata": {},
   "outputs": [
    {
     "name": "stdout",
     "output_type": "stream",
     "text": [
      "New working directory: C:\\Users\\yotam\\code_projects\\APDTFlow\n"
     ]
    }
   ],
   "source": [
    "import os\n",
    "os.chdir(\"C:/Users/yotam/code_projects/APDTFlow\")\n",
    "print(\"New working directory:\", os.getcwd())"
   ]
  },
  {
   "cell_type": "code",
   "execution_count": 2,
   "metadata": {},
   "outputs": [
    {
     "name": "stdout",
     "output_type": "stream",
     "text": [
      "Project root added to sys.path: C:\\Users\\yotam\n"
     ]
    }
   ],
   "source": [
    "import sys\n",
    "import os\n",
    "\n",
    "project_root = os.path.abspath(os.path.join(os.getcwd(), \"..\", \"..\"))\n",
    "if project_root not in sys.path:\n",
    "    sys.path.append(project_root)\n",
    "\n",
    "print(\"Project root added to sys.path:\", project_root)\n"
   ]
  },
  {
   "cell_type": "code",
   "execution_count": 3,
   "metadata": {},
   "outputs": [
    {
     "name": "stdout",
     "output_type": "stream",
     "text": [
      "Using device: cpu\n"
     ]
    }
   ],
   "source": [
    "import os\n",
    "import torch\n",
    "import torch.nn as nn\n",
    "import matplotlib.pyplot as plt\n",
    "from torch.utils.data import DataLoader\n",
    "\n",
    "torch.manual_seed(42)\n",
    "\n",
    "from apdtflow.models.apdtflow import APDTFlow\n",
    "from apdtflow.data import TimeSeriesWindowDataset\n",
    "\n",
    "device = torch.device(\"cuda\" if torch.cuda.is_available() else \"cpu\")\n",
    "print(\"Using device:\", device)"
   ]
  },
  {
   "cell_type": "markdown",
   "metadata": {},
   "source": [
    "## Load and Prepare the Dataset"
   ]
  },
  {
   "cell_type": "code",
   "execution_count": 4,
   "metadata": {},
   "outputs": [
    {
     "name": "stdout",
     "output_type": "stream",
     "text": [
      "Loaded dataset with 383 samples.\n"
     ]
    }
   ],
   "source": [
    "csv_file = r\"C:\\Users\\yotam\\code_projects\\APDTFlow\\dataset_examples\\Electric_Production.csv\"\n",
    "\n",
    "dataset = TimeSeriesWindowDataset(\n",
    "    csv_file=csv_file,\n",
    "    date_col=\"DATE\",\n",
    "    value_col=\"IPG2211A2N\",\n",
    "    T_in=12, \n",
    "    T_out=3  \n",
    ")\n",
    "print(\"Loaded dataset with\", len(dataset), \"samples.\")\n",
    "\n",
    "train_loader = DataLoader(dataset, batch_size=16, shuffle=True)"
   ]
  },
  {
   "cell_type": "markdown",
   "metadata": {},
   "source": [
    "## Instantiate the APDTFlow Model with Embedding Enabled"
   ]
  },
  {
   "cell_type": "code",
   "execution_count": 5,
   "metadata": {},
   "outputs": [
    {
     "name": "stdout",
     "output_type": "stream",
     "text": [
      "Model instantiated and moved to device: cpu\n"
     ]
    }
   ],
   "source": [
    "num_scales = 3\n",
    "input_channels = 1\n",
    "filter_size = 5\n",
    "hidden_dim = 16\n",
    "output_dim = 1\n",
    "forecast_horizon = 3\n",
    "\n",
    "model = APDTFlow(\n",
    "    num_scales=num_scales,\n",
    "    input_channels=input_channels,\n",
    "    filter_size=filter_size,\n",
    "    hidden_dim=hidden_dim,\n",
    "    output_dim=output_dim,\n",
    "    forecast_horizon=forecast_horizon,\n",
    "    use_embedding=True \n",
    ")\n",
    "\n",
    "model.to(device)\n",
    "print(\"Model instantiated and moved to device:\", device)"
   ]
  },
  {
   "cell_type": "markdown",
   "metadata": {},
   "source": [
    "## Train the Model"
   ]
  },
  {
   "cell_type": "code",
   "execution_count": 6,
   "metadata": {},
   "outputs": [
    {
     "name": "stdout",
     "output_type": "stream",
     "text": [
      "Starting training...\n",
      "Epoch 1/5, Loss: 1820.2332\n",
      "Epoch 2/5, Loss: 615.7756\n",
      "Epoch 3/5, Loss: 408.1793\n",
      "Epoch 4/5, Loss: 305.1142\n",
      "Epoch 5/5, Loss: 238.4244\n",
      "Training completed.\n"
     ]
    }
   ],
   "source": [
    "num_epochs = 5     \n",
    "learning_rate = 0.001\n",
    "\n",
    "print(\"Starting training...\")\n",
    "model.train_model(train_loader, num_epochs=num_epochs, learning_rate=learning_rate, device=device)\n",
    "\n",
    "print(\"Training completed.\")"
   ]
  },
  {
   "cell_type": "markdown",
   "metadata": {},
   "source": [
    "## Evaluate the Model"
   ]
  },
  {
   "cell_type": "code",
   "execution_count": 7,
   "metadata": {},
   "outputs": [
    {
     "name": "stderr",
     "output_type": "stream",
     "text": [
      "2025-02-09 13:32:12,671 - INFO - Evaluation -> MSE: 8137.4237, MAE: 88.9985\n"
     ]
    },
    {
     "name": "stdout",
     "output_type": "stream",
     "text": [
      "Evaluation metrics on training data: {'MSE': 8137.42368023825, 'MAE': 88.99845914118595}\n"
     ]
    }
   ],
   "source": [
    "metrics = model.evaluate(train_loader, device, metrics=[\"MSE\", \"MAE\"])\n",
    "print(\"Evaluation metrics on training data:\", metrics)"
   ]
  }
 ],
 "metadata": {
  "kernelspec": {
   "display_name": "Python 3",
   "language": "python",
   "name": "python3"
  },
  "language_info": {
   "codemirror_mode": {
    "name": "ipython",
    "version": 3
   },
   "file_extension": ".py",
   "mimetype": "text/x-python",
   "name": "python",
   "nbconvert_exporter": "python",
   "pygments_lexer": "ipython3",
   "version": "3.10.0"
  }
 },
 "nbformat": 4,
 "nbformat_minor": 2
}
