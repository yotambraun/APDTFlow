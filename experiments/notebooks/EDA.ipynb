{
 "cells": [
  {
   "cell_type": "code",
   "execution_count": 1,
   "metadata": {},
   "outputs": [
    {
     "name": "stdout",
     "output_type": "stream",
     "text": [
      "New working directory: C:\\Users\\yotam\\code_projects\\APDTFlow\n"
     ]
    }
   ],
   "source": [
    "import os\n",
    "os.chdir(\"C:/Users/yotam/code_projects/APDTFlow\")\n",
    "print(\"New working directory:\", os.getcwd())"
   ]
  },
  {
   "cell_type": "code",
   "execution_count": 2,
   "metadata": {},
   "outputs": [
    {
     "name": "stdout",
     "output_type": "stream",
     "text": [
      "Project root added to sys.path: C:\\Users\\yotam\n"
     ]
    }
   ],
   "source": [
    "import sys\n",
    "import os\n",
    "\n",
    "# If the notebook is in \"experiments/notebooks/\", then the project root is two levels up.\n",
    "project_root = os.path.abspath(os.path.join(os.getcwd(), \"..\", \"..\"))\n",
    "if project_root not in sys.path:\n",
    "    sys.path.append(project_root)\n",
    "\n",
    "print(\"Project root added to sys.path:\", project_root)\n"
   ]
  },
  {
   "cell_type": "code",
   "execution_count": 3,
   "metadata": {},
   "outputs": [
    {
     "name": "stdout",
     "output_type": "stream",
     "text": [
      "CUDA available: False\n"
     ]
    }
   ],
   "source": [
    "import torch\n",
    "print(\"CUDA available:\", torch.cuda.is_available())\n",
    "device = torch.device(\"cuda:0\" if torch.cuda.is_available() else \"cpu\")\n",
    "os.environ[\"CUDA_VISIBLE_DEVICES\"] = \"0\""
   ]
  },
  {
   "cell_type": "code",
   "execution_count": 4,
   "metadata": {},
   "outputs": [
    {
     "name": "stderr",
     "output_type": "stream",
     "text": [
      "2025-02-05 13:14:27,945 - INFO - Evaluation -> MSE: 8053.5325, MAE: 88.5259\n"
     ]
    },
    {
     "name": "stdout",
     "output_type": "stream",
     "text": [
      "Test MSE: 8053.5325, Test MAE: 88.5259\n"
     ]
    }
   ],
   "source": [
    "from torch.utils.data import DataLoader\n",
    "from apdtflow.data import TimeSeriesWindowDataset\n",
    "from apdtflow.models.apdtflow import APDTFlow\n",
    "import torch\n",
    "\n",
    "# Load test dataset\n",
    "test_dataset = TimeSeriesWindowDataset(\n",
    "    csv_file=\"C:/Users/yotam/code_projects/APDTFlow/dataset_examples/Electric_Production.csv\",\n",
    "    date_col=\"DATE\",\n",
    "    value_col=\"IPG2211A2N\",\n",
    "    T_in=12,\n",
    "    T_out=3,\n",
    "    transform=None\n",
    ")\n",
    "test_loader = DataLoader(test_dataset, batch_size=16, shuffle=False)\n",
    "\n",
    "# Initialize the model\n",
    "model = APDTFlow(num_scales=3, input_channels=1, filter_size=5, hidden_dim=16, output_dim=1, forecast_horizon=3)\n",
    "device = torch.device(\"cuda:0\" if torch.cuda.is_available() else \"cpu\")\n",
    "model.to(device)\n",
    "\n",
    "# Use an absolute path for the checkpoint\n",
    "checkpoint_path = \"C:/Users/yotam/code_projects/APDTFlow/checkpoints/APDTFlow_checkpoint.pt\"\n",
    "checkpoint = torch.load(checkpoint_path, map_location=device)\n",
    "model.load_state_dict(checkpoint)\n",
    "\n",
    "# Evaluate model performance\n",
    "mse, mae = model.evaluate(test_loader, device)\n",
    "print(f\"Test MSE: {mse:.4f}, Test MAE: {mae:.4f}\")\n"
   ]
  }
 ],
 "metadata": {
  "kernelspec": {
   "display_name": "Python 3",
   "language": "python",
   "name": "python3"
  },
  "language_info": {
   "codemirror_mode": {
    "name": "ipython",
    "version": 3
   },
   "file_extension": ".py",
   "mimetype": "text/x-python",
   "name": "python",
   "nbconvert_exporter": "python",
   "pygments_lexer": "ipython3",
   "version": "3.10.0"
  }
 },
 "nbformat": 4,
 "nbformat_minor": 2
}
